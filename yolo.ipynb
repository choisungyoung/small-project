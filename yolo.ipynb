{
 "cells": [
  {
   "cell_type": "code",
   "execution_count": 1,
   "metadata": {
    "vscode": {
     "languageId": "bat"
    }
   },
   "outputs": [
    {
     "name": "stderr",
     "output_type": "stream",
     "text": [
      "Cloning into 'yolov9'...\n"
     ]
    }
   ],
   "source": [
    "!git clone https://github.com/SkalskiP/yolov9.git"
   ]
  },
  {
   "cell_type": "code",
   "execution_count": 2,
   "metadata": {
    "vscode": {
     "languageId": "bat"
    }
   },
   "outputs": [
    {
     "name": "stdout",
     "output_type": "stream",
     "text": [
      "c:\\Users\\user\\Desktop\\me\\workspace\\small-project\\yolov9\n",
      "c:\\Users\\user\\Desktop\\me\\workspace\\small-project\n"
     ]
    }
   ],
   "source": [
    "%cd yolov9\n",
    "!pip install -r requirements.txt -q\n",
    "%cd .."
   ]
  },
  {
   "cell_type": "code",
   "execution_count": 13,
   "metadata": {
    "vscode": {
     "languageId": "bat"
    }
   },
   "outputs": [
    {
     "name": "stdout",
     "output_type": "stream",
     "text": [
      "epoch : 0\n",
      "epoch : 1\n",
      "epoch : 2\n",
      "epoch : 3\n",
      "epoch : 4\n"
     ]
    },
    {
     "name": "stderr",
     "output_type": "stream",
     "text": [
      "\u001b[34m\u001b[1mtrain: \u001b[0mweights=weights/gelan-c.pt, cfg=yolov9/models/detect/gelan-c.yaml, data=data/data.yaml, hyp=hyp.scratch-high.yaml, epochs=5, batch_size=16, imgsz=512, rect=False, resume=False, nosave=False, noval=False, noautoanchor=False, noplots=False, evolve=None, bucket=, cache=None, image_weights=False, device=cpu, multi_scale=False, single_cls=False, optimizer=SGD, sync_bn=False, workers=8, project=yolov9\\runs\\train, name=exp, exist_ok=False, quad=False, cos_lr=False, flat_cos_lr=False, fixed_lr=False, label_smoothing=0.0, patience=100, freeze=[0], save_period=-1, seed=0, local_rank=-1, min_items=0, close_mosaic=15, entity=None, upload_dataset=False, bbox_interval=-1, artifact_alias=latest\n",
      "YOLOv5  1e33dbb Python-3.10.5 torch-2.3.0+cpu CPU\n",
      "\n",
      "\u001b[34m\u001b[1mhyperparameters: \u001b[0mlr0=0.01, lrf=0.01, momentum=0.937, weight_decay=0.0005, warmup_epochs=3.0, warmup_momentum=0.8, warmup_bias_lr=0.1, box=7.5, cls=0.5, cls_pw=1.0, dfl=1.5, obj_pw=1.0, iou_t=0.2, anchor_t=5.0, fl_gamma=0.0, hsv_h=0.015, hsv_s=0.7, hsv_v=0.4, degrees=0.0, translate=0.1, scale=0.9, shear=0.0, perspective=0.0, flipud=0.0, fliplr=0.5, mosaic=1.0, mixup=0.15, copy_paste=0.3\n",
      "\u001b[34m\u001b[1mClearML: \u001b[0mrun 'pip install clearml' to automatically track, visualize and remotely train YOLO  in ClearML\n",
      "\u001b[34m\u001b[1mComet: \u001b[0mrun 'pip install comet_ml' to automatically track and visualize YOLO  runs in Comet\n",
      "\u001b[34m\u001b[1mTensorBoard: \u001b[0mStart with 'tensorboard --logdir yolov9\\runs\\train', view at http://localhost:6006/\n",
      "Overriding model.yaml nc=80 with nc=2\n",
      "\n",
      "                 from  n    params  module                                  arguments                     \n",
      "  0                -1  1      1856  models.common.Conv                      [3, 64, 3, 2]                 \n",
      "  1                -1  1     73984  models.common.Conv                      [64, 128, 3, 2]               \n",
      "  2                -1  1    212864  models.common.RepNCSPELAN4              [128, 256, 128, 64, 1]        \n",
      "  3                -1  1    164352  models.common.ADown                     [256, 256]                    \n",
      "  4                -1  1    847616  models.common.RepNCSPELAN4              [256, 512, 256, 128, 1]       \n",
      "  5                -1  1    656384  models.common.ADown                     [512, 512]                    \n",
      "  6                -1  1   2857472  models.common.RepNCSPELAN4              [512, 512, 512, 256, 1]       \n",
      "  7                -1  1    656384  models.common.ADown                     [512, 512]                    \n",
      "  8                -1  1   2857472  models.common.RepNCSPELAN4              [512, 512, 512, 256, 1]       \n",
      "  9                -1  1    656896  models.common.SPPELAN                   [512, 512, 256]               \n",
      " 10                -1  1         0  torch.nn.modules.upsampling.Upsample    [None, 2, 'nearest']          \n",
      " 11           [-1, 6]  1         0  models.common.Concat                    [1]                           \n",
      " 12                -1  1   3119616  models.common.RepNCSPELAN4              [1024, 512, 512, 256, 1]      \n",
      " 13                -1  1         0  torch.nn.modules.upsampling.Upsample    [None, 2, 'nearest']          \n",
      " 14           [-1, 4]  1         0  models.common.Concat                    [1]                           \n",
      " 15                -1  1    912640  models.common.RepNCSPELAN4              [1024, 256, 256, 128, 1]      \n",
      " 16                -1  1    164352  models.common.ADown                     [256, 256]                    \n",
      " 17          [-1, 12]  1         0  models.common.Concat                    [1]                           \n",
      " 18                -1  1   2988544  models.common.RepNCSPELAN4              [768, 512, 512, 256, 1]       \n",
      " 19                -1  1    656384  models.common.ADown                     [512, 512]                    \n",
      " 20           [-1, 9]  1         0  models.common.Concat                    [1]                           \n",
      " 21                -1  1   3119616  models.common.RepNCSPELAN4              [1024, 512, 512, 256, 1]      \n",
      " 22      [15, 18, 21]  1   5492182  models.yolo.DDetect                     [2, [256, 512, 512]]          \n",
      "gelan-c summary: 621 layers, 25438614 parameters, 25438598 gradients, 103.2 GFLOPs\n",
      "\n",
      "Transferred 931/937 items from weights\\gelan-c.pt\n",
      "\u001b[34m\u001b[1moptimizer:\u001b[0m SGD(lr=0.01) with parameter groups 154 weight(decay=0.0), 161 weight(decay=0.0005), 160 bias\n",
      "\u001b[34m\u001b[1malbumentations: \u001b[0mBlur(p=0.01, blur_limit=(3, 7)), MedianBlur(p=0.01, blur_limit=(3, 7)), ToGray(p=0.01), CLAHE(p=0.01, clip_limit=(1, 4.0), tile_grid_size=(8, 8))\n",
      "\n",
      "\u001b[34m\u001b[1mtrain: \u001b[0mScanning C:\\Users\\user\\Desktop\\me\\workspace\\small-project\\data\\yolo\\train\\labels...:   0%|          | 0/10 00:00\n",
      "\u001b[34m\u001b[1mtrain: \u001b[0mScanning C:\\Users\\user\\Desktop\\me\\workspace\\small-project\\data\\yolo\\train\\labels... 1 images, 0 backgrounds, 0 corrupt:  10%|█         | 1/10 00:08\n",
      "\u001b[34m\u001b[1mtrain: \u001b[0mScanning C:\\Users\\user\\Desktop\\me\\workspace\\small-project\\data\\yolo\\train\\labels... 10 images, 0 backgrounds, 0 corrupt: 100%|██████████| 10/10 00:08\n",
      "\u001b[34m\u001b[1mtrain: \u001b[0mWARNING  Cache directory C:\\Users\\user\\Desktop\\me\\workspace\\small-project\\data\\yolo\\train is not writeable: [WinError 183]      : 'C:\\\\Users\\\\user\\\\Desktop\\\\me\\\\workspace\\\\small-project\\\\data\\\\yolo\\\\train\\\\labels.cache.npy' -> 'C:\\\\Users\\\\user\\\\Desktop\\\\me\\\\workspace\\\\small-project\\\\data\\\\yolo\\\\train\\\\labels.cache'\n",
      "\n",
      "\u001b[34m\u001b[1mval: \u001b[0mScanning C:\\Users\\user\\Desktop\\me\\workspace\\small-project\\data\\yolo\\valid\\labels...:   0%|          | 0/10 00:00\n",
      "\u001b[34m\u001b[1mval: \u001b[0mScanning C:\\Users\\user\\Desktop\\me\\workspace\\small-project\\data\\yolo\\valid\\labels... 1 images, 1 backgrounds, 0 corrupt:  10%|█         | 1/10 00:09\n",
      "\u001b[34m\u001b[1mval: \u001b[0mScanning C:\\Users\\user\\Desktop\\me\\workspace\\small-project\\data\\yolo\\valid\\labels... 10 images, 3 backgrounds, 0 corrupt: 100%|██████████| 10/10 00:09\n",
      "\u001b[34m\u001b[1mval: \u001b[0mWARNING  Cache directory C:\\Users\\user\\Desktop\\me\\workspace\\small-project\\data\\yolo\\valid is not writeable: [WinError 183]      : 'C:\\\\Users\\\\user\\\\Desktop\\\\me\\\\workspace\\\\small-project\\\\data\\\\yolo\\\\valid\\\\labels.cache.npy' -> 'C:\\\\Users\\\\user\\\\Desktop\\\\me\\\\workspace\\\\small-project\\\\data\\\\yolo\\\\valid\\\\labels.cache'\n",
      "Plotting labels to yolov9\\runs\\train\\exp6\\labels.jpg... \n",
      "Image sizes 512 train, 512 val\n",
      "Using 8 dataloader workers\n",
      "Logging results to \u001b[1myolov9\\runs\\train\\exp6\u001b[0m\n",
      "Starting training for 5 epochs...\n",
      "\n",
      "      Epoch    GPU_mem   box_loss   cls_loss   dfl_loss  Instances       Size\n",
      "\n",
      "  0%|          | 0/1 00:00\n",
      "        0/4         0G      2.219      4.508       1.92        139        512:   0%|          | 0/1 00:23\n",
      "        0/4         0G      2.219      4.508       1.92        139        512: 100%|██████████| 1/1 00:28\n",
      "        0/4         0G      2.219      4.508       1.92        139        512: 100%|██████████| 1/1 00:30\n",
      "\n",
      "                 Class     Images  Instances          P          R      mAP50   mAP50-95:   0%|          | 0/1 00:00\n",
      "                 Class     Images  Instances          P          R      mAP50   mAP50-95: 100%|██████████| 1/1 00:03\n",
      "                 Class     Images  Instances          P          R      mAP50   mAP50-95: 100%|██████████| 1/1 00:03\n",
      "                   all         10         53    0.00112     0.0189   0.000571   0.000514\n",
      "\n",
      "      Epoch    GPU_mem   box_loss   cls_loss   dfl_loss  Instances       Size\n",
      "\n",
      "  0%|          | 0/1 00:00\n",
      "        1/4         0G      2.363      4.666      1.919        171        512:   0%|          | 0/1 00:18\n",
      "        1/4         0G      2.363      4.666      1.919        171        512: 100%|██████████| 1/1 00:18\n",
      "        1/4         0G      2.363      4.666      1.919        171        512: 100%|██████████| 1/1 00:19\n",
      "\n",
      "                 Class     Images  Instances          P          R      mAP50   mAP50-95:   0%|          | 0/1 00:00\n",
      "                 Class     Images  Instances          P          R      mAP50   mAP50-95: 100%|██████████| 1/1 00:04\n",
      "                 Class     Images  Instances          P          R      mAP50   mAP50-95: 100%|██████████| 1/1 00:04\n",
      "                   all         10         53    0.00112     0.0189   0.000575   0.000345\n",
      "\n",
      "      Epoch    GPU_mem   box_loss   cls_loss   dfl_loss  Instances       Size\n",
      "\n",
      "  0%|          | 0/1 00:00\n",
      "        2/4         0G       2.12       4.69       1.78        115        512:   0%|          | 0/1 00:18\n",
      "        2/4         0G       2.12       4.69       1.78        115        512: 100%|██████████| 1/1 00:18\n",
      "        2/4         0G       2.12       4.69       1.78        115        512: 100%|██████████| 1/1 00:19\n",
      "\n",
      "                 Class     Images  Instances          P          R      mAP50   mAP50-95:   0%|          | 0/1 00:00\n",
      "                 Class     Images  Instances          P          R      mAP50   mAP50-95: 100%|██████████| 1/1 00:03\n",
      "                 Class     Images  Instances          P          R      mAP50   mAP50-95: 100%|██████████| 1/1 00:03\n",
      "                   all         10         53    0.00112     0.0189   0.000575   0.000345\n",
      "\n",
      "      Epoch    GPU_mem   box_loss   cls_loss   dfl_loss  Instances       Size\n",
      "\n",
      "  0%|          | 0/1 00:00\n",
      "        3/4         0G      2.004      4.684      1.652        114        512:   0%|          | 0/1 00:17\n",
      "        3/4         0G      2.004      4.684      1.652        114        512: 100%|██████████| 1/1 00:17\n",
      "        3/4         0G      2.004      4.684      1.652        114        512: 100%|██████████| 1/1 00:19\n",
      "\n",
      "                 Class     Images  Instances          P          R      mAP50   mAP50-95:   0%|          | 0/1 00:00\n",
      "                 Class     Images  Instances          P          R      mAP50   mAP50-95: 100%|██████████| 1/1 00:03\n",
      "                 Class     Images  Instances          P          R      mAP50   mAP50-95: 100%|██████████| 1/1 00:03\n",
      "                   all         10         53    0.00112     0.0189   0.000571   0.000343\n",
      "\n",
      "      Epoch    GPU_mem   box_loss   cls_loss   dfl_loss  Instances       Size\n",
      "\n",
      "  0%|          | 0/1 00:00\n",
      "        4/4         0G      2.136      4.856      1.549        188        512:   0%|          | 0/1 00:18\n",
      "        4/4         0G      2.136      4.856      1.549        188        512: 100%|██████████| 1/1 00:18\n",
      "        4/4         0G      2.136      4.856      1.549        188        512: 100%|██████████| 1/1 00:19\n",
      "\n",
      "                 Class     Images  Instances          P          R      mAP50   mAP50-95:   0%|          | 0/1 00:00\n",
      "                 Class     Images  Instances          P          R      mAP50   mAP50-95: 100%|██████████| 1/1 00:04\n",
      "                 Class     Images  Instances          P          R      mAP50   mAP50-95: 100%|██████████| 1/1 00:04\n",
      "                   all         10         53    0.00111     0.0189   0.000569   0.000342\n",
      "\n",
      "5 epochs completed in 0.037 hours.\n",
      "Optimizer stripped from yolov9\\runs\\train\\exp6\\weights\\last.pt, saved as yolov9\\runs\\train\\exp6\\weights\\last_striped.pt, 51.4MB\n",
      "Optimizer stripped from yolov9\\runs\\train\\exp6\\weights\\best.pt, saved as yolov9\\runs\\train\\exp6\\weights\\best_striped.pt, 51.4MB\n",
      "\n",
      "Validating yolov9\\runs\\train\\exp6\\weights\\best.pt...\n",
      "Fusing layers... \n",
      "gelan-c summary: 467 layers, 25412502 parameters, 0 gradients, 102.5 GFLOPs\n",
      "\n",
      "                 Class     Images  Instances          P          R      mAP50   mAP50-95:   0%|          | 0/1 00:00\n",
      "                 Class     Images  Instances          P          R      mAP50   mAP50-95: 100%|██████████| 1/1 00:03\n",
      "                 Class     Images  Instances          P          R      mAP50   mAP50-95: 100%|██████████| 1/1 00:03\n",
      "                   all         10         53    0.00112     0.0189   0.000573   0.000516\n",
      "              building         10         53    0.00112     0.0189   0.000573   0.000516\n",
      "Results saved to \u001b[1myolov9\\runs\\train\\exp6\u001b[0m\n"
     ]
    }
   ],
   "source": [
    "!python yolov9/train.py \\\n",
    "--batch 16 --epochs 5 --img 512 --device cpu --min-items 0 --close-mosaic 15 \\\n",
    "--data data/data.yaml \\\n",
    "--weights weights/gelan-c.pt \\\n",
    "--cfg yolov9/models/detect/gelan-c.yaml \\\n",
    "--hyp hyp.scratch-high.yaml"
   ]
  },
  {
   "cell_type": "code",
   "execution_count": 9,
   "metadata": {
    "vscode": {
     "languageId": "bat"
    }
   },
   "outputs": [
    {
     "name": "stdout",
     "output_type": "stream",
     "text": [
      "Collecting Pillow==9.5.0\n",
      "  Downloading Pillow-9.5.0-cp310-cp310-win_amd64.whl.metadata (9.7 kB)\n",
      "Downloading Pillow-9.5.0-cp310-cp310-win_amd64.whl (2.5 MB)\n",
      "   ---------------------------------------- 0.0/2.5 MB ? eta -:--:--\n",
      "   ---------- ----------------------------- 0.6/2.5 MB 13.3 MB/s eta 0:00:01\n",
      "   ------------------- -------------------- 1.2/2.5 MB 13.1 MB/s eta 0:00:01\n",
      "   ---------------------------- ----------- 1.8/2.5 MB 12.9 MB/s eta 0:00:01\n",
      "   -------------------------------------- - 2.4/2.5 MB 12.8 MB/s eta 0:00:01\n",
      "   ---------------------------------------- 2.5/2.5 MB 12.3 MB/s eta 0:00:00\n",
      "Installing collected packages: Pillow\n",
      "  Attempting uninstall: Pillow\n",
      "    Found existing installation: pillow 10.3.0\n",
      "    Uninstalling pillow-10.3.0:\n",
      "      Successfully uninstalled pillow-10.3.0\n",
      "Successfully installed Pillow-9.5.0\n",
      "Note: you may need to restart the kernel to use updated packages.\n"
     ]
    }
   ],
   "source": [
    "pip install Pillow==9.5.0"
   ]
  }
 ],
 "metadata": {
  "kernelspec": {
   "display_name": "Python 3",
   "language": "python",
   "name": "python3"
  },
  "language_info": {
   "codemirror_mode": {
    "name": "ipython",
    "version": 3
   },
   "file_extension": ".py",
   "mimetype": "text/x-python",
   "name": "python",
   "nbconvert_exporter": "python",
   "pygments_lexer": "ipython3",
   "version": "3.10.5"
  }
 },
 "nbformat": 4,
 "nbformat_minor": 2
}
